{
  "nbformat": 4,
  "nbformat_minor": 0,
  "metadata": {
    "colab": {
      "name": "Notes_v22.ipynb",
      "provenance": [],
      "collapsed_sections": [],
      "authorship_tag": "ABX9TyPPS/vJVWp3WIHLDBQYb6sN",
      "include_colab_link": true
    },
    "kernelspec": {
      "name": "python3",
      "display_name": "Python 3"
    },
    "language_info": {
      "name": "python"
    }
  },
  "cells": [
    {
      "cell_type": "markdown",
      "metadata": {
        "id": "view-in-github",
        "colab_type": "text"
      },
      "source": [
        "<a href=\"https://colab.research.google.com/github/gmmdev/Notebooks_gm/blob/main/Notes_v22.ipynb\" target=\"_parent\"><img src=\"https://colab.research.google.com/assets/colab-badge.svg\" alt=\"Open In Colab\"/></a>"
      ]
    },
    {
      "cell_type": "code",
      "source": [
        "# [1, 2,3,4,5,6,7,8,9,10,11,12,13,14,15,16,17,18]\n",
        "def extrae_primos_de_lista(lista):\n",
        "  lista_primos = []\n",
        "  for elemento in lista:\n",
        "    if verificar_primo(int(elemento)):\n",
        "      lista_primos.append(elemento)\n",
        "    return lista_primos\n",
        "\n",
        "lis_completa = [1,2,3,4,5,6,7,8,9,10,11,12,13,14,15,16,17,18,19,20,21,22]\n",
        "lis_primos = extrae_primos_de_lista(lis_completa)\n",
        "lis_primos\n",
        "\n",
        "# 06 Funciones y recursividad\n",
        "\n",
        "def factorial(numero): \n",
        "  if(type(numero) != int):\n",
        "    return 'El numero debe ser entero'\n",
        "  if(numero < 0):\n",
        "    return 'El numero debe ser positivo'\n",
        "  if(numero > 1):\n",
        "    numero = numero + 1\n",
        "  return numero\n",
        "  \n",
        "  print(factorial(4))\n",
        "  print(factorial(-2))\n",
        "  print(factorial(1,23))\n",
        "\n",
        "  '''\n",
        "# Filter, map y reduce \n",
        " Forman parte de un grupo de funciones denominado funciones de orden superior, y nos permiten trabajar con el paradigma de programacion funcional.\n",
        "# Objeto iterable\n",
        "todo objeto que se pueden recorrer sus elementos uno a uno.\n",
        "# Filter \n",
        "verifica que elementos del objeto iterable al cual se aplica cierta condición la cumplen y devuelve otro objeto iterable con aquellos que si.\n",
        "# Map \n",
        "aplica una funcion a un objeto iterable que se le pasa por parametro y devuelve el resultado de dicha función\n",
        "# Reduce\n",
        "aplica una funcion al objeto iterable que se le pasa por parametro, reduciendolo a un unico valor.\n",
        "# Importante\n",
        "a partir d python3,REDUCE fue movido al functools, x lo tanto para poder usarla hay que importar el modulo.\n",
        "\n",
        "OOPS concepts built-in data structures, and other stuff\n",
        "- Oop in Python\n",
        "- List & list-functions\n",
        "- Regular expressions\n",
        "- List comprehension\n",
        "- List slicing\n",
        "- String formatting\n",
        "- Lambdas\n",
        "- List, dictionaries & tuples\n",
        "\n",
        "FRAMEWORKS FOR WEB DEV\n",
        "- Django. Flask. Bottle. Tornado. Pyramid. Tkinter. PyQT. Kivy.\n",
        "FOR DATA ANALYSIS\n",
        "- Numpy. Pandas. \n",
        "FOR MACHINE LEARNING\n",
        "- TensorFlow. Scikit-Learn. PyTorch\n",
        "\n",
        "'''"
      ],
      "metadata": {
        "id": "uNRgEWBY_84h"
      },
      "execution_count": null,
      "outputs": []
    },
    {
      "cell_type": "code",
      "source": [
        "nombres = ['Samy', 'Mari', 'Mara', 'Ana', 'Eliana']\n",
        "filtro = filter(lambda x: x[0].lower() in 'aeiou' , nombres)\n",
        "print(list(filtro))\n",
        "\n",
        "def doblar(numero):\n",
        "  return numero*2\n",
        "\n",
        "numeros = [2, 5, 10, 23, 55, 18]\n",
        "mapeo = map(doblar, numeros)\n",
        "print(list(mapeo))\n",
        "\n",
        "\n",
        "from functools import reduce\n",
        "def add(a, b):\n",
        "  return a+b\n",
        "resultado = reduce(add, [1, 2, 3, 4])\n",
        "print(resultado)"
      ],
      "metadata": {
        "colab": {
          "base_uri": "https://localhost:8080/"
        },
        "id": "7qKlDavUABWS",
        "outputId": "9ffaaf4f-d9ff-47fa-c4e3-23e94803d3b9"
      },
      "execution_count": 3,
      "outputs": [
        {
          "output_type": "stream",
          "name": "stdout",
          "text": [
            "['Ana', 'Eliana']\n",
            "[4, 10, 20, 46, 110, 36]\n",
            "10\n"
          ]
        }
      ]
    },
    {
      "cell_type": "code",
      "source": [
        "import calendar\n",
        "year = 2022\n",
        "month = 7\n",
        "print(calendar.month(year, month))"
      ],
      "metadata": {
        "colab": {
          "base_uri": "https://localhost:8080/"
        },
        "id": "aU7AFi6xAB9i",
        "outputId": "87f5a4b1-4479-47a0-ec21-c07b2d9ce55c"
      },
      "execution_count": 5,
      "outputs": [
        {
          "output_type": "stream",
          "name": "stdout",
          "text": [
            "     July 2022\n",
            "Mo Tu We Th Fr Sa Su\n",
            "             1  2  3\n",
            " 4  5  6  7  8  9 10\n",
            "11 12 13 14 15 16 17\n",
            "18 19 20 21 22 23 24\n",
            "25 26 27 28 29 30 31\n",
            "\n"
          ]
        }
      ]
    },
    {
      "cell_type": "code",
      "source": [
        "# 03 - Flujos de control (ejercitacion.ipynb)\n",
        "def verificar_primo(nro):\n",
        "  es_primo = True\n",
        "  # ciclo for para recorrer rango de numeros entre 2 y el nro establecido.\n",
        "  for i in range(2, nro):\n",
        "    if nro % i == 0:\n",
        "      es_primo = False\n",
        "      break\n",
        "  return es_primo\n",
        "\n",
        "verificar_primo(11)"
      ],
      "metadata": {
        "id": "NKIPkp8v_Vj_"
      },
      "execution_count": null,
      "outputs": []
    },
    {
      "cell_type": "code",
      "execution_count": 1,
      "metadata": {
        "colab": {
          "base_uri": "https://localhost:8080/"
        },
        "id": "GzOzpO_4SPfz",
        "outputId": "23376a79-600b-43ee-e494-a96ec167f8a2"
      },
      "outputs": [
        {
          "output_type": "stream",
          "name": "stdout",
          "text": [
            "['O', 'j', 'a', 'l', 'á', ' ', 'h', 'o', 'y', ' ', 'p', 'u', 'e', 'd', 'a', 's', ' ', 'r', 'e', 't', 'i', 'r', 'a', 'r', ' ', 't', 'u', ' ', 'c', 'e', 'l', 'u', ' ', '!', '!', '!']\n"
          ]
        }
      ],
      "source": [
        "mensaje_wp = \"Ojalá hoy puedas retirar tu celu !!!\"\n",
        "mensaje_wp = list(mensaje_wp)\n",
        "print(mensaje_wp)"
      ]
    },
    {
      "cell_type": "code",
      "source": [
        "mensaje_wp_v2 = \"Q ojalá llueva\"\n",
        "recorre = iter(mensaje_wp_v2)\n",
        "largo = len(mensaje_wp_v2)\n",
        "for i in range(0, largo):\n",
        "    print(next(recorre))"
      ],
      "metadata": {
        "colab": {
          "base_uri": "https://localhost:8080/"
        },
        "id": "kGXAV1w6TA-U",
        "outputId": "332d2212-8dce-4942-8d4b-16feeb5458f5"
      },
      "execution_count": 2,
      "outputs": [
        {
          "output_type": "stream",
          "name": "stdout",
          "text": [
            "Q\n",
            " \n",
            "o\n",
            "j\n",
            "a\n",
            "l\n",
            "á\n",
            " \n",
            "l\n",
            "l\n",
            "u\n",
            "e\n",
            "v\n",
            "a\n"
          ]
        }
      ]
    },
    {
      "cell_type": "markdown",
      "source": [
        "La base de datos que vamos a estar utilizando se encuentra disponible en https://www.kaggle.com/blastchar/telco-customer-churn.\n",
        "\n",
        "# **Paso 1: Carga de librerías**\n",
        "Cargamos las librerías o paquetes que vamos a estar utilizando, sin dudas una de las principales para análisis de datos es Pandas y para la visualización de los datos vamos a usar Matplotlib.\n",
        "\n"
      ],
      "metadata": {
        "id": "rSMKdS55f5tu"
      }
    },
    {
      "cell_type": "code",
      "source": [
        "import pandas as pd\n",
        "import matplotlib.pyplot as plt\n",
        "\n",
        "#cargar base de datos\n",
        "pd.read_csv('./../data/WA_Fn-UseC_-Telco-Customer-Churn.csv')\n",
        "\n",
        "#renombrar base de datos\n",
        "clientes_telecomunicaciones=pd.read_csv('./../data/WA_Fn-Usec_-Telco-Customer-Churn.csv')\n",
        "\n",
        "#ver el encabezado de los datos\n",
        "clientes_telecomunicaciones.head()\n",
        "\n",
        "#cantidad de registros y columnas que contiene la base de datos\n",
        "clientes_telecomunicaciones.shape\n",
        "(7043, 21)\n",
        "\n",
        "#tipo de datos de cada variable\n",
        "clientes_telecomunicaciones.dtypes\n",
        "clientes_telecomunicaciones.info()"
      ],
      "metadata": {
        "colab": {
          "base_uri": "https://localhost:8080/",
          "height": 381
        },
        "id": "hynJ9CEKQcH4",
        "outputId": "856f0cd8-467c-49e5-8f8c-fe92f3e0341d"
      },
      "execution_count": null,
      "outputs": [
        {
          "output_type": "error",
          "ename": "FileNotFoundError",
          "evalue": "ignored",
          "traceback": [
            "\u001b[0;31m---------------------------------------------------------------------------\u001b[0m",
            "\u001b[0;31mFileNotFoundError\u001b[0m                         Traceback (most recent call last)",
            "\u001b[0;32m<ipython-input-3-3c554a936f06>\u001b[0m in \u001b[0;36m<module>\u001b[0;34m()\u001b[0m\n\u001b[1;32m      3\u001b[0m \u001b[0;34m\u001b[0m\u001b[0m\n\u001b[1;32m      4\u001b[0m \u001b[0;31m#cargar base de datos\u001b[0m\u001b[0;34m\u001b[0m\u001b[0;34m\u001b[0m\u001b[0;34m\u001b[0m\u001b[0m\n\u001b[0;32m----> 5\u001b[0;31m \u001b[0mpd\u001b[0m\u001b[0;34m.\u001b[0m\u001b[0mread_csv\u001b[0m\u001b[0;34m(\u001b[0m\u001b[0;34m'./../data/WA_Fn-UseC_-Telco-Customer-Churn.csv'\u001b[0m\u001b[0;34m)\u001b[0m\u001b[0;34m\u001b[0m\u001b[0;34m\u001b[0m\u001b[0m\n\u001b[0m\u001b[1;32m      6\u001b[0m \u001b[0;34m\u001b[0m\u001b[0m\n\u001b[1;32m      7\u001b[0m \u001b[0;31m#renombrar base de datos\u001b[0m\u001b[0;34m\u001b[0m\u001b[0;34m\u001b[0m\u001b[0;34m\u001b[0m\u001b[0m\n",
            "\u001b[0;32m/usr/local/lib/python3.7/dist-packages/pandas/util/_decorators.py\u001b[0m in \u001b[0;36mwrapper\u001b[0;34m(*args, **kwargs)\u001b[0m\n\u001b[1;32m    309\u001b[0m                     \u001b[0mstacklevel\u001b[0m\u001b[0;34m=\u001b[0m\u001b[0mstacklevel\u001b[0m\u001b[0;34m,\u001b[0m\u001b[0;34m\u001b[0m\u001b[0;34m\u001b[0m\u001b[0m\n\u001b[1;32m    310\u001b[0m                 )\n\u001b[0;32m--> 311\u001b[0;31m             \u001b[0;32mreturn\u001b[0m \u001b[0mfunc\u001b[0m\u001b[0;34m(\u001b[0m\u001b[0;34m*\u001b[0m\u001b[0margs\u001b[0m\u001b[0;34m,\u001b[0m \u001b[0;34m**\u001b[0m\u001b[0mkwargs\u001b[0m\u001b[0;34m)\u001b[0m\u001b[0;34m\u001b[0m\u001b[0;34m\u001b[0m\u001b[0m\n\u001b[0m\u001b[1;32m    312\u001b[0m \u001b[0;34m\u001b[0m\u001b[0m\n\u001b[1;32m    313\u001b[0m         \u001b[0;32mreturn\u001b[0m \u001b[0mwrapper\u001b[0m\u001b[0;34m\u001b[0m\u001b[0;34m\u001b[0m\u001b[0m\n",
            "\u001b[0;32m/usr/local/lib/python3.7/dist-packages/pandas/io/parsers/readers.py\u001b[0m in \u001b[0;36mread_csv\u001b[0;34m(filepath_or_buffer, sep, delimiter, header, names, index_col, usecols, squeeze, prefix, mangle_dupe_cols, dtype, engine, converters, true_values, false_values, skipinitialspace, skiprows, skipfooter, nrows, na_values, keep_default_na, na_filter, verbose, skip_blank_lines, parse_dates, infer_datetime_format, keep_date_col, date_parser, dayfirst, cache_dates, iterator, chunksize, compression, thousands, decimal, lineterminator, quotechar, quoting, doublequote, escapechar, comment, encoding, encoding_errors, dialect, error_bad_lines, warn_bad_lines, on_bad_lines, delim_whitespace, low_memory, memory_map, float_precision, storage_options)\u001b[0m\n\u001b[1;32m    584\u001b[0m     \u001b[0mkwds\u001b[0m\u001b[0;34m.\u001b[0m\u001b[0mupdate\u001b[0m\u001b[0;34m(\u001b[0m\u001b[0mkwds_defaults\u001b[0m\u001b[0;34m)\u001b[0m\u001b[0;34m\u001b[0m\u001b[0;34m\u001b[0m\u001b[0m\n\u001b[1;32m    585\u001b[0m \u001b[0;34m\u001b[0m\u001b[0m\n\u001b[0;32m--> 586\u001b[0;31m     \u001b[0;32mreturn\u001b[0m \u001b[0m_read\u001b[0m\u001b[0;34m(\u001b[0m\u001b[0mfilepath_or_buffer\u001b[0m\u001b[0;34m,\u001b[0m \u001b[0mkwds\u001b[0m\u001b[0;34m)\u001b[0m\u001b[0;34m\u001b[0m\u001b[0;34m\u001b[0m\u001b[0m\n\u001b[0m\u001b[1;32m    587\u001b[0m \u001b[0;34m\u001b[0m\u001b[0m\n\u001b[1;32m    588\u001b[0m \u001b[0;34m\u001b[0m\u001b[0m\n",
            "\u001b[0;32m/usr/local/lib/python3.7/dist-packages/pandas/io/parsers/readers.py\u001b[0m in \u001b[0;36m_read\u001b[0;34m(filepath_or_buffer, kwds)\u001b[0m\n\u001b[1;32m    480\u001b[0m \u001b[0;34m\u001b[0m\u001b[0m\n\u001b[1;32m    481\u001b[0m     \u001b[0;31m# Create the parser.\u001b[0m\u001b[0;34m\u001b[0m\u001b[0;34m\u001b[0m\u001b[0;34m\u001b[0m\u001b[0m\n\u001b[0;32m--> 482\u001b[0;31m     \u001b[0mparser\u001b[0m \u001b[0;34m=\u001b[0m \u001b[0mTextFileReader\u001b[0m\u001b[0;34m(\u001b[0m\u001b[0mfilepath_or_buffer\u001b[0m\u001b[0;34m,\u001b[0m \u001b[0;34m**\u001b[0m\u001b[0mkwds\u001b[0m\u001b[0;34m)\u001b[0m\u001b[0;34m\u001b[0m\u001b[0;34m\u001b[0m\u001b[0m\n\u001b[0m\u001b[1;32m    483\u001b[0m \u001b[0;34m\u001b[0m\u001b[0m\n\u001b[1;32m    484\u001b[0m     \u001b[0;32mif\u001b[0m \u001b[0mchunksize\u001b[0m \u001b[0;32mor\u001b[0m \u001b[0miterator\u001b[0m\u001b[0;34m:\u001b[0m\u001b[0;34m\u001b[0m\u001b[0;34m\u001b[0m\u001b[0m\n",
            "\u001b[0;32m/usr/local/lib/python3.7/dist-packages/pandas/io/parsers/readers.py\u001b[0m in \u001b[0;36m__init__\u001b[0;34m(self, f, engine, **kwds)\u001b[0m\n\u001b[1;32m    809\u001b[0m             \u001b[0mself\u001b[0m\u001b[0;34m.\u001b[0m\u001b[0moptions\u001b[0m\u001b[0;34m[\u001b[0m\u001b[0;34m\"has_index_names\"\u001b[0m\u001b[0;34m]\u001b[0m \u001b[0;34m=\u001b[0m \u001b[0mkwds\u001b[0m\u001b[0;34m[\u001b[0m\u001b[0;34m\"has_index_names\"\u001b[0m\u001b[0;34m]\u001b[0m\u001b[0;34m\u001b[0m\u001b[0;34m\u001b[0m\u001b[0m\n\u001b[1;32m    810\u001b[0m \u001b[0;34m\u001b[0m\u001b[0m\n\u001b[0;32m--> 811\u001b[0;31m         \u001b[0mself\u001b[0m\u001b[0;34m.\u001b[0m\u001b[0m_engine\u001b[0m \u001b[0;34m=\u001b[0m \u001b[0mself\u001b[0m\u001b[0;34m.\u001b[0m\u001b[0m_make_engine\u001b[0m\u001b[0;34m(\u001b[0m\u001b[0mself\u001b[0m\u001b[0;34m.\u001b[0m\u001b[0mengine\u001b[0m\u001b[0;34m)\u001b[0m\u001b[0;34m\u001b[0m\u001b[0;34m\u001b[0m\u001b[0m\n\u001b[0m\u001b[1;32m    812\u001b[0m \u001b[0;34m\u001b[0m\u001b[0m\n\u001b[1;32m    813\u001b[0m     \u001b[0;32mdef\u001b[0m \u001b[0mclose\u001b[0m\u001b[0;34m(\u001b[0m\u001b[0mself\u001b[0m\u001b[0;34m)\u001b[0m\u001b[0;34m:\u001b[0m\u001b[0;34m\u001b[0m\u001b[0;34m\u001b[0m\u001b[0m\n",
            "\u001b[0;32m/usr/local/lib/python3.7/dist-packages/pandas/io/parsers/readers.py\u001b[0m in \u001b[0;36m_make_engine\u001b[0;34m(self, engine)\u001b[0m\n\u001b[1;32m   1038\u001b[0m             )\n\u001b[1;32m   1039\u001b[0m         \u001b[0;31m# error: Too many arguments for \"ParserBase\"\u001b[0m\u001b[0;34m\u001b[0m\u001b[0;34m\u001b[0m\u001b[0;34m\u001b[0m\u001b[0m\n\u001b[0;32m-> 1040\u001b[0;31m         \u001b[0;32mreturn\u001b[0m \u001b[0mmapping\u001b[0m\u001b[0;34m[\u001b[0m\u001b[0mengine\u001b[0m\u001b[0;34m]\u001b[0m\u001b[0;34m(\u001b[0m\u001b[0mself\u001b[0m\u001b[0;34m.\u001b[0m\u001b[0mf\u001b[0m\u001b[0;34m,\u001b[0m \u001b[0;34m**\u001b[0m\u001b[0mself\u001b[0m\u001b[0;34m.\u001b[0m\u001b[0moptions\u001b[0m\u001b[0;34m)\u001b[0m  \u001b[0;31m# type: ignore[call-arg]\u001b[0m\u001b[0;34m\u001b[0m\u001b[0;34m\u001b[0m\u001b[0m\n\u001b[0m\u001b[1;32m   1041\u001b[0m \u001b[0;34m\u001b[0m\u001b[0m\n\u001b[1;32m   1042\u001b[0m     \u001b[0;32mdef\u001b[0m \u001b[0m_failover_to_python\u001b[0m\u001b[0;34m(\u001b[0m\u001b[0mself\u001b[0m\u001b[0;34m)\u001b[0m\u001b[0;34m:\u001b[0m\u001b[0;34m\u001b[0m\u001b[0;34m\u001b[0m\u001b[0m\n",
            "\u001b[0;32m/usr/local/lib/python3.7/dist-packages/pandas/io/parsers/c_parser_wrapper.py\u001b[0m in \u001b[0;36m__init__\u001b[0;34m(self, src, **kwds)\u001b[0m\n\u001b[1;32m     49\u001b[0m \u001b[0;34m\u001b[0m\u001b[0m\n\u001b[1;32m     50\u001b[0m         \u001b[0;31m# open handles\u001b[0m\u001b[0;34m\u001b[0m\u001b[0;34m\u001b[0m\u001b[0;34m\u001b[0m\u001b[0m\n\u001b[0;32m---> 51\u001b[0;31m         \u001b[0mself\u001b[0m\u001b[0;34m.\u001b[0m\u001b[0m_open_handles\u001b[0m\u001b[0;34m(\u001b[0m\u001b[0msrc\u001b[0m\u001b[0;34m,\u001b[0m \u001b[0mkwds\u001b[0m\u001b[0;34m)\u001b[0m\u001b[0;34m\u001b[0m\u001b[0;34m\u001b[0m\u001b[0m\n\u001b[0m\u001b[1;32m     52\u001b[0m         \u001b[0;32massert\u001b[0m \u001b[0mself\u001b[0m\u001b[0;34m.\u001b[0m\u001b[0mhandles\u001b[0m \u001b[0;32mis\u001b[0m \u001b[0;32mnot\u001b[0m \u001b[0;32mNone\u001b[0m\u001b[0;34m\u001b[0m\u001b[0;34m\u001b[0m\u001b[0m\n\u001b[1;32m     53\u001b[0m \u001b[0;34m\u001b[0m\u001b[0m\n",
            "\u001b[0;32m/usr/local/lib/python3.7/dist-packages/pandas/io/parsers/base_parser.py\u001b[0m in \u001b[0;36m_open_handles\u001b[0;34m(self, src, kwds)\u001b[0m\n\u001b[1;32m    227\u001b[0m             \u001b[0mmemory_map\u001b[0m\u001b[0;34m=\u001b[0m\u001b[0mkwds\u001b[0m\u001b[0;34m.\u001b[0m\u001b[0mget\u001b[0m\u001b[0;34m(\u001b[0m\u001b[0;34m\"memory_map\"\u001b[0m\u001b[0;34m,\u001b[0m \u001b[0;32mFalse\u001b[0m\u001b[0;34m)\u001b[0m\u001b[0;34m,\u001b[0m\u001b[0;34m\u001b[0m\u001b[0;34m\u001b[0m\u001b[0m\n\u001b[1;32m    228\u001b[0m             \u001b[0mstorage_options\u001b[0m\u001b[0;34m=\u001b[0m\u001b[0mkwds\u001b[0m\u001b[0;34m.\u001b[0m\u001b[0mget\u001b[0m\u001b[0;34m(\u001b[0m\u001b[0;34m\"storage_options\"\u001b[0m\u001b[0;34m,\u001b[0m \u001b[0;32mNone\u001b[0m\u001b[0;34m)\u001b[0m\u001b[0;34m,\u001b[0m\u001b[0;34m\u001b[0m\u001b[0;34m\u001b[0m\u001b[0m\n\u001b[0;32m--> 229\u001b[0;31m             \u001b[0merrors\u001b[0m\u001b[0;34m=\u001b[0m\u001b[0mkwds\u001b[0m\u001b[0;34m.\u001b[0m\u001b[0mget\u001b[0m\u001b[0;34m(\u001b[0m\u001b[0;34m\"encoding_errors\"\u001b[0m\u001b[0;34m,\u001b[0m \u001b[0;34m\"strict\"\u001b[0m\u001b[0;34m)\u001b[0m\u001b[0;34m,\u001b[0m\u001b[0;34m\u001b[0m\u001b[0;34m\u001b[0m\u001b[0m\n\u001b[0m\u001b[1;32m    230\u001b[0m         )\n\u001b[1;32m    231\u001b[0m \u001b[0;34m\u001b[0m\u001b[0m\n",
            "\u001b[0;32m/usr/local/lib/python3.7/dist-packages/pandas/io/common.py\u001b[0m in \u001b[0;36mget_handle\u001b[0;34m(path_or_buf, mode, encoding, compression, memory_map, is_text, errors, storage_options)\u001b[0m\n\u001b[1;32m    705\u001b[0m                 \u001b[0mencoding\u001b[0m\u001b[0;34m=\u001b[0m\u001b[0mioargs\u001b[0m\u001b[0;34m.\u001b[0m\u001b[0mencoding\u001b[0m\u001b[0;34m,\u001b[0m\u001b[0;34m\u001b[0m\u001b[0;34m\u001b[0m\u001b[0m\n\u001b[1;32m    706\u001b[0m                 \u001b[0merrors\u001b[0m\u001b[0;34m=\u001b[0m\u001b[0merrors\u001b[0m\u001b[0;34m,\u001b[0m\u001b[0;34m\u001b[0m\u001b[0;34m\u001b[0m\u001b[0m\n\u001b[0;32m--> 707\u001b[0;31m                 \u001b[0mnewline\u001b[0m\u001b[0;34m=\u001b[0m\u001b[0;34m\"\"\u001b[0m\u001b[0;34m,\u001b[0m\u001b[0;34m\u001b[0m\u001b[0;34m\u001b[0m\u001b[0m\n\u001b[0m\u001b[1;32m    708\u001b[0m             )\n\u001b[1;32m    709\u001b[0m         \u001b[0;32melse\u001b[0m\u001b[0;34m:\u001b[0m\u001b[0;34m\u001b[0m\u001b[0;34m\u001b[0m\u001b[0m\n",
            "\u001b[0;31mFileNotFoundError\u001b[0m: [Errno 2] No such file or directory: './../data/WA_Fn-UseC_-Telco-Customer-Churn.csv'"
          ]
        }
      ]
    },
    {
      "cell_type": "code",
      "source": [
        "'''\n",
        "ANALISTA DE DATOS\n",
        "Excel \n",
        "Power BI\n",
        "Python\n",
        "\n",
        "CIENTIFICO DATOS\n",
        "Portafolio con muchisimos datos. Bibliotecas con datos integrados para aprendizaje\n",
        "'''\n",
        "# HACKER RANK "
      ],
      "metadata": {
        "id": "sZvzdfT8rHnw"
      },
      "execution_count": null,
      "outputs": []
    },
    {
      "cell_type": "code",
      "source": [
        "```\n",
        "LISTA\n",
        "```\n",
        "  Serie de elementos ordenados. Pueden ser de distinto tipo. Se req de un indice para acceder a cada elemento, y estos pueden ser modificados.\n",
        "  Se pueden agregar elementos al final de la lista.\n",
        "  Se pueden concatenar listas.\n",
        "\n",
        "```\n",
        "TUPLA\n",
        "```\n",
        "Una vez creada no se puede modificar, es inmutable. Se puede convertir una lista en una tupla y viceversa. Se pueden evaluar la cantidad de veces que aparece un elemento dentro de una tupla y si un elemento está dentro de una tupla. \n",
        "```\n",
        ">>> mi_tupla = (1,2,3,3)\n",
        ">>> print(mi_tupla.count(3)\n",
        "2\n",
        ">>> 2 in mi_tupla\n",
        "True\n",
        "```"
      ],
      "metadata": {
        "id": "VO_HKE54rIfl"
      },
      "execution_count": null,
      "outputs": []
    },
    {
      "cell_type": "code",
      "source": [
        "Implementar la función agregarProductos(producto) al prototipo de BinarySearchTree, que nos servirá para\n",
        "// agregar LOS NOMBRES de los productos en una góndola de supermercado en base a las comparacionesde sus precios,\n",
        "// siguiendo la siguiente tabla:\n",
        "//\n",
        "//    ┌─────────┬────────┐\n",
        "//    │Productos│ Precios│\n",
        "//    ├─────────┼────────┤\n",
        "//    │  Leche  │  100   │\n",
        "//    │  Queso  │  150   │\n",
        "//    │   Pan   │   50   │\n",
        "//    │ Frutas  │  110   │\n",
        "//    │  Arroz  │   40   │\n",
        "//    │  Jugo   │   80   │\n",
        "//    └─────────┴────────┘\n",
        "\n",
        "// CONSIGNAS:\n",
        "//  - En caso de querer insertar un producto que ya se encuentra en el árbol, debe retornar\n",
        "//    el string \"Ya existe el producto\".\n",
        "//  - En caso de querer insertar un producto que no se encuentra en la tabla de precios, debe retornar\n",
        "//    el string \"Producto inexistente\".\n",
        "//  - El método debe insertar el producto en la posición correspondiente, basando su ubicación en el\n",
        "//    precio del producto. (Ver ejemplos)\n",
        "//  - En caso de insertar el producto correctamente, debe retornar el nuevo nodo que ha sido insertado.\n",
        "//\n",
        "//\n",
        "// IMPORTANTE! La lista de productos se encuentra en el objeto productos a continuación:\n",
        "const productos = {\n",
        "  Leche: 100,\n",
        "  Queso: 150,\n",
        "  Pan: 50,\n",
        "  Frutas: 110,\n",
        "  Arroz: 40,\n",
        "  Jugo: 80,\n",
        "};\n",
        "//⚠️ NO MODIFICAR NADA POR ENCIMA DE ESTA LÍNEA ⚠️\n",
        "\n",
        "BinarySearchTree.prototype.agregarProductos = function (nombreProducto) {\n",
        "  // Aquí tu código\n",
        "}"
      ],
      "metadata": {
        "id": "o0YhYorbrL2v"
      },
      "execution_count": null,
      "outputs": []
    },
    {
      "cell_type": "code",
      "source": [
        "'''\n",
        "Programa | Nombre del curso: Visualización de Datos\n",
        "Fundamentación:\n",
        "Vivimos en un mundo plagado de datos. En ese contexto, desarrollar información relevante y\n",
        "presentarla con claridad se vuelve una tarea fundamental. La visualización de datos es una valiosa\n",
        "herramienta que nos permite diseñar y presentar los datos de forma atractiva y comprensible.\n",
        "Objetivos:\n",
        "Que les cursantes:\n",
        "• Exploren el concepto de visualizaciones de datos y las formas de desarrollarlas para favorecer\n",
        "la comprensión de esta forma de diseño y presentación de los datos.\n",
        "• Indaguen el proceso de creación de casos paradigmáticos de visualizaciones de datos.\n",
        "Personas Destinatarias: Público en general, especialmente aquellos interesados en la temática.\n",
        "Contenidos:\n",
        "• Ideas para la creación.\n",
        "• Datos, información y formas de representar la información.\n",
        "• Equipo y proceso de trabajo.\n",
        "• Ejemplos de trabajos realizados con visualización de datos.\n",
        "• Caso paradigmático: Densidad Poblacional.\n",
        "• Exploración de otros materiales.\n",
        "\n",
        "Carga horaria: 10 horas\n",
        "'''"
      ],
      "metadata": {
        "id": "0T1tiO2BrPkh"
      },
      "execution_count": null,
      "outputs": []
    },
    {
      "cell_type": "markdown",
      "source": [
        "*******************************\n",
        "# ***Visualización de datos/ CursosInnovacion***\n",
        "*******************************\n",
        "\n",
        "\n",
        "'''\n",
        "01\n",
        "Charla Visualización de Datos “Ideas para crear” https://www.youtube.com/watch?v=vafzH8NAThA\n",
        "\n",
        "02\n",
        "Elementos centrales para Crear Visualizaciones https://www.youtube.com/watch?v=VcNr3QaMUuA\n",
        "\"La exuberancia es belleza\"\n",
        "Autores: Nate Silver (blog, datos, graficos)\n",
        "\n",
        "03\n",
        "Infografía, equipos y procesos de trabajo https://www.youtube.com/watch?v=alwNuFmIxdc\n",
        "- Brief\n",
        "- Bocetado en baja . Interacciones y funciones que tendra la visualizacion\n",
        "- Diseño \n",
        "- Desarrollador o programador\n",
        "- Conocimientos de herramientas para visualizaciones, las hay gratuitas o pagas.\n",
        "- Tableau\n",
        "****************************************************************\n",
        "Procesos de trabajo de una infografía\n",
        "Por Vanina Ogueta, diseñadora grafica e infografa.\n",
        "\n",
        "Desglosar, unir.\n",
        "1 encargado de mineria, extraccion ed datos con conocimientos en estadistica, q va a explorar entiende de q se trata eldato, puede ser economista, cientifico de datos, o periodista. Que se va a contar ?\n",
        "2 diseñador como se va a contar esa informacion. Diseño. Infografia. Como contar algo para q sea didactico, q el usuario lo pueda interpretar, color, escala, estadistica.\n",
        "3 programador d3 libreria de js, permite hacer visualizaciones.\n",
        "\n",
        "proceso de trabajo:\n",
        "* rief doc donde se agrupan todos los contenidos, formas de juntar visualizacion. \n",
        "* bocetado en baja.\n",
        "* diseño\n",
        "* mockups cerrados se pasa al programador\n",
        "'''"
      ],
      "metadata": {
        "id": "4t0b1JMXrVyb"
      }
    },
    {
      "cell_type": "code",
      "source": [
        "'''\n",
        "let list = [0, 1, 0, 2, 1, 0, 3, 2, 1, 1, 1, 5, 0, 2]:\n",
        "\n",
        "class Solution{\n",
        "    colectarNieveCuadratica(lista){\n",
        "        let total = 0;\n",
        "        for(let i = 0;i < lista.length; i++){\n",
        "            let value = lista[i];\n",
        "            max = value > max ? value : max;\n",
        "        }\n",
        "\n",
        "        while(max > 0){\n",
        "            let contamos = false;\n",
        "            let balde = 0;\n",
        "            for(let i = 0; i < lista.length; i++){\n",
        "            let value = lista[i];\n",
        "            if (value >= max){\n",
        "                contamos = true;\n",
        "                total += balde;\n",
        "                continue;\n",
        "            }\n",
        "            if(contamos){\n",
        "                balde++;\n",
        "            }\n",
        "        }\n",
        "            max ==;\n",
        "        }\n",
        "        return total;\n",
        "    }\n",
        "}\n",
        "\n",
        "new Solution().colectarNieveCuadratica(list):\n",
        "\n",
        "'''"
      ],
      "metadata": {
        "id": "jePzFpJNrbe2"
      },
      "execution_count": null,
      "outputs": []
    },
    {
      "cell_type": "markdown",
      "source": [
        "*******************************\n",
        "# ***Big data ***\n",
        "*******************************\n",
        "\n",
        "Se basa en charla 2018 por Antonio Vázquez Brust,científico de datos, urbanista, especialista en Planificación Urbana y Regional (UBA).\n",
        "Actualmente se desempeña como Coordinador académico del Posgrado de Big Data e Inteligencia\n",
        "territorial de Flacso y como Docente de la UBA así como consultor para diversas ONGs. \n",
        "Está dividido en tres secciones. En esta sección te presentaremos fragmentos de la charla \n",
        "ofrecida por Antonio Vazquez Brust, organizados en los siguientes ejes temáticos: \n",
        "* “Las cinco V de la Big Data”\n",
        "* “Antecedentes del análisis de datos\"\n",
        "* “El impacto de los datos en la toma de decisiones” \n",
        "  Por ejemplo : el censo nacional.\n",
        "  - Datos abiertos y transparencia.\n",
        "  - Redes sociales, imagen satelital y aerea a demanda, sensores y mapeos de bajo costo.\n",
        "  - Innovacion teocratica.\n",
        "  - En particular: Datos administrativos del gobierno preexistentes"
      ],
      "metadata": {
        "id": "03uGNIWArtt_"
      }
    }
  ]
}