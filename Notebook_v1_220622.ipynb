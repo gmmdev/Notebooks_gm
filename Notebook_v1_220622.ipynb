{
  "nbformat": 4,
  "nbformat_minor": 0,
  "metadata": {
    "colab": {
      "name": "Notebook_v1_220622.ipynb",
      "provenance": [],
      "authorship_tag": "ABX9TyMvkMXMZph5h82fMTIqaVXg",
      "include_colab_link": true
    },
    "kernelspec": {
      "name": "python3",
      "display_name": "Python 3"
    },
    "language_info": {
      "name": "python"
    }
  },
  "cells": [
    {
      "cell_type": "markdown",
      "metadata": {
        "id": "view-in-github",
        "colab_type": "text"
      },
      "source": [
        "<a href=\"https://colab.research.google.com/github/gmmdev/Notebooks_gm/blob/main/Notebook_v1_220622.ipynb\" target=\"_parent\"><img src=\"https://colab.research.google.com/assets/colab-badge.svg\" alt=\"Open In Colab\"/></a>"
      ]
    },
    {
      "cell_type": "code",
      "source": [
        "S1 C1 Primeros pasos en Python y el uso del Intérprete por ventana de comando/terminal\n",
        "● Operaciones matemáticas básica en Python (suma, resta, división (las tres posibilidades), multiplicación y potencia.\n",
        "● Tipos de datos básicos del lenguaje: int, float, bool, str\n",
        "\n",
        "S2 C2 estructuras condicionales\n",
        "● Estructuras condicionales: simples, compuestas y anidadas\n",
        "● Uso de palabras claves del lenguaje: if, else, elif\n",
        "● Concepto de condiciones lógicas y operadores de comparación (mayor, menor, mayor o igual, menor o igual, igualdad, distintos)\n",
        "● Operadores lógicos: and, or y not\n",
        "\n",
        "S3 C3: estructuras repetitivas while /for\n",
        "\n",
        "S4 C4: estructuras de datos\n",
        "● Estructuras de datos en Python: listas y tuplas(Empaquetado y desempaquetado)\n",
        "● Funciones de listas: agregar y eliminar elementos, tamaño de listas y ordenamiento de las mismas en listas conformadas por números\n",
        "\n",
        "S5 C5: interacción entre estructuras de datos\n",
        "● Interacción entre estructuras de datos en la programación Y estructuras de datos simples: listas anidadas en listas, tuplas anidadas en tuplas y tuplas anidadas en listas\n",
        "\n",
        "S6 C6: funciones\n",
        "● Funciones simples y con parámetros (de tipos simples y estructuras de datos tipo lista y tuplas)\n",
        "● Funciones con retorno de datos de tipos simples, lista y tuplas\n",
        "\n",
        "S7 C7 Algoritmos y técnicas básicas\n",
        "● Manejo del comportamiento de programas usando un menú de opciones \n",
        "● Juego sencillo: el número secreto\n"
      ],
      "metadata": {
        "id": "013YZAYWzJuh"
      },
      "execution_count": null,
      "outputs": []
    },
    {
      "cell_type": "code",
      "source": [
        " FREECODE CAMP\n",
        " 1- inspeccion limpieza transformacion y modelado de datos para descubrir informacion util, sacar conclusiones y apoyar la toma de decisiones.\n",
        "\ta- recopilar datos con python data tools y transformarlos con pandas\n",
        "\tb- visualizar con matplotlib y seabourn.\n",
        "2- real example data analysis with python\n",
        "3- how to use jupyter notebooks\n",
        "4- intro to numpy & intro to pandas\n",
        "5- data cleaning & reading data SQL, csv, apis, json, xml, etc\n",
        "# Data analysis tools\n",
        "Auto-managed closed tools (QLIK, Tableau, Looker, zoho analytics)\n",
        "(closed source - expensive - limited - easy to learn)\n",
        "# Programming languages ((libreria altamente tecnica)R) > Python, julia)\n",
        "(open source - free - extremely powerful - steep learning curve)\n",
        "\n",
        "#1_Data_extraction\n",
        "Obtencion de datos, x ej bdd como SQL o proveniente en otro formato(web scrapping) o api web.\n",
        "#2_Data_cleaning\n",
        "Limpieza de datos\n",
        "missing values and empty data, data imputation\n",
        "incorrect types and incorrect or invalid values\n",
        "outliers and non relevant data\n",
        "statistical sanitization\n",
        "#3_Data_wrangling\n",
        "con datos limpios reorganizar y remodelar los datos para analizar, transformando campos, fusionando tablas, combinando datos de multiples fuentes. preparar datos para el sig paso.\n",
        "Hierarchical data\n",
        "handling categorical data\n",
        "reshaping and transforming structures\n",
        "indexing data for quick access\n",
        "merging, combining and joining data\n",
        "\n",
        "#4_Analysis \n",
        "Consiste extraer patrones de datos q se limpian d cualq forma capturando tendencias o anomalias con analisis estadistico.\n",
        "exploration, building statistical models, visualization and representations\n",
        "correlation vs causation analysis\n",
        "hypothesis testing\n",
        "statistical analysis and reporting\n",
        "\n",
        "#5_Action\n",
        "implementar modelos de aprendizaje automatico. generar informes para comunicar nuestros resultados y respaldar la toma de decisiones.\n",
        "building machine learning models, feature engineering, moving ml into production\n",
        "building etl pipelines, live dashboard and reporting\n",
        "decision making and real-life tests\n",
        "\n",
        "python ecosystem:\n",
        "pandas : the cornerstone of our data analysis job with python\n",
        "matplotlib : foundational library for visualizations. Other libraries well use will be built on top of matplotlib.\n",
        "numpy: numeric library that serves as the foundation of all calculations in python\n",
        "seabom: statistical visualization tool built on top of matplotlib.\n",
        "statsmodels: a library with many advanced statistical functions\n",
        "scipy: advanced scientific computing, including functions for optimization, linear algebra, image processing and much more.\n",
        "scikit-learn: the most popular machine learning library for python (not deep learning)\n",
        "\n"
      ],
      "metadata": {
        "id": "5bEmnV-rzsMj"
      },
      "execution_count": null,
      "outputs": []
    },
    {
      "cell_type": "markdown",
      "source": [
        "BIG DATA : conjunto de datos o combinaciones de conjunto de datos cuyo tamaño y complejidad dificultan no solo su captura sino también su calidad, gestión y procesamiento necesitando aplicaciones tecnológicas para tratarlos adecuadamente. Conocidas como las “7 Vs” las características que hacen a esta complejidad:\n",
        "1.\tVolumen \n",
        "2.\tVelocidad\n",
        "3.\tViabilidad\n",
        "4.\tVisualización\n",
        "5.\tVeracidad\n",
        "6.\tVariedad\n",
        "7.\tValor\n",
        "\n",
        "FUENTES DE DATOS:\n",
        " Para una empresa pueden variar desde comentarios de los clientes hasta cifras de ventas y demandas de productos o servicios. Aquí hay algunas fuentes de datos que una empresa puede utilizar:\n",
        "\n",
        "•\t**Redes sociales** (Linkedin, Tw y Fb pueden proporcionar info sobre el tipo de tráfico de clientes que recibe su página web. Estas plataformas tambien brindan formas rentables de realizar encuestas sobre la satisfaccion del cliente con los productos o servicios y preferencias)\n",
        "•\t** Informes de participacion en linea ** (El uso de herramientas como Google Analytics o Crazy Egg puede proporcionarles datos sobre como los clientes interactuan en su sitio web)\n",
        "•**\tDatos transaccionales** (este tipo de datos incluirá informacion recopilada de informes de ventas, libros de contabilidad y transacciones de pago web. Con un sistema de gestion de relaciones con los clientes tambien podra recopilar datos sobre como los clientes gastan su dinero en sus productos)\n",
        "\n",
        "# Como los datos pueden mejorar su negocio: El uso adecuado y eficiente de los datos pueden mejorar su negocio de muchas maneras. Estos son algunos ejemplos de datos que juegan un papel importante en el éxito empresarial:\n",
        "•\tMejorar las estrategias de marketing atractivas e innovadoras Si una empresa sabe como reaccionan los clientes a las tecnicas de marketing actuales les permitira realizar cambios que se ajustaran a las tendencias y expectativas de sus clientes.\n",
        "•\tIdentificacion de puntos débiles. si una empresa está impulsada por procesos o patrones predeterminados, los datos pueden ayudar a identificar los puntos de desviación. Las pequeñas desviaciones de la norma pueden ser la razón del aumento de las quejas de los clientes, la disminución de las ventas o la disminución de la productividad. Al recopilar y analizar datos regularmente, se podrá detectar un percance lo suficientemente temprano como para evitar daños irreversibles.\n",
        "•\tDetección de fraude en ausencia de una gestión de datos adecuada, el fraude puede proliferar y afectar gravemente el éxito empresarial. Con el acceso a los números de ventas a la mano, será fácil detectar cuándo y dónde puede estar ocurriendo el fraude. Por ejemplo, si tiene una factura de compra por 100 unidades, pero sus informes de ventas solo muestran que se han vendido 90 unidades, sabe que faltan diez unidades en el inventario y sabrá dónde buscar. Muchas empresas son víctimas silenciosas de fraude porque no utilizan los datos para darse cuenta de que se está produciendo un fraude.\n",
        "\n",
        "La gestión de datos se está volviendo cada vez más importante para las organizaciones y, sin embargo, las encuestas continúan revelando cuán por debajo de la media están los operadores cuando se trata del manejo de la información. En estos informes se observa que una gran cantidad de personal de TI carece de habilidades de gestión y análisis de datos. Todos luchan con problemas similares con big data, tienen problemas de almacenamiento a largo plazo, problemas con la organización y gestión de datos, conocimiento de los planes de gestión de datos y necesidad de consulta e instrucción. La mayoría de los empleados carecen de información sobre las instalaciones de gestión de datos. Pocos departamentos tienen poca o ninguna representación. La encuesta mostró que los empleados mostraron interés en los sistemas optimizados y el personal de TI indicó que es posible que no estén recibiendo la orientación y el apoyo adecuados y solicitaron más capacitación en su campo. Los resultados apuntan a la necesidad de mejorar la formación del personal que gestiona big data. Se debe hacer un esfuerzo consciente para elevar el nivel de recopilación, gestión y distribución de datos, de modo que la instalación de supersistemas beneficie a la organización.\n",
        "\n",
        "*** Departamento de finanzas ***\n",
        "El negocio trata de ganar dinero y las organizaciones colapsarían sin ganancias sustanciales. Cualquiera q no pueda entregar el dinero será considerado un pasivo para la organización. El personal de este departamento debe saber si existe un valor financiero en el despliegue de ciertos activos. Claramente, deben estar bien capacitados en el uso de big data para tomar decisiones monetarias importantes. Con la afluencia de información, las funciones financieras se han vuelto complejas, lo que hace que la capacitación en big data sea una necesidad. Los empleados del departamento de finanzas deben estar capacitados para hacer uso de plataformas de big data para construir prototipos financieros que sostengan a la organización. El dinero se agotará sin un gasto controlado y una financiación máxima del proyecto, y el equipo financiero debe mantener el ingreso de dinero. Las tecnologías de big data deben comprenderse yaprovecharse para respaldar los objetivos de la organización. La capacitación prepara a estos empleados para hacer uso de big data en sus roles centrales de planificación comercial, auditoría, contabilidad yregulación general de las finanzas. Cuando el trabajo se gestiona con éxito, las finanzas de la organización mejoran significativamente. El personal bien capacitado genera declaraciones precisas sobre el flujo de efectivo, el cumplimiento de los estándares financieros, el modelado de costos y la realización de premios, etc.\n",
        "\n",
        "*** Departamento de Recursos Humano ***\n",
        "En el mundo cambiante de hoy, la forma en que opera un departamento de recursos humanos contribuye en gran medida a definir el éxito de la organización. El departamento de recursos humanos debe ser capaz de analizar la información en orden de relevancia para tomar decisiones estratégicas de funcionamiento. La capacitación en big data brinda habilidades como el análisis de datos, la visualización y la resolución de problemas, desde informes operativos hasta análisis estratégico. La\n",
        "aplicación hábil de big data mejora la calidad del personal al evaluar las capacidades de los trabajadores actuales y determinar las competencias requeridas en el empleo futuro. El empleo ya no es la principal preocupación del departamento de recursos humanos.Su alcance se ha ampliado y ahora comprende y analiza todos los asuntos relacionados con su departamento. Los miembros del personal de recursos humanos deben ser capaces de utilizar las herramientas disponibles para el análisis de datos porque tales capacidades eventualmente ayudarán\n",
        "a resolver problemas que comprenden la retención del personal, las relaciones entre el personal y el cliente que afectan las ventas, las habilidades y deficiencias dentro de la organización, la calidad de\n",
        "los candidatos para el empleo y una serie de otros asuntos relacionados con el departamento y la organización. La intuición, la experiencia y un enfoque sólido basado en datos benefician al departamento de recursos humanos y, a su vez, también a toda la organización.\n",
        "\n",
        "*** Departamento de aprovisionamiento y logística. ***\n",
        "El negocio se detendrá si los suministros se entregan tarde o no se entregan debido a fallas logísticas o de inventario. Las entregas tardías y las roturas en el tránsito harán que los clientes enojados cancelen sus pedidos y se quejen de los malos servicios. Los objetivos de este departamento son la rapidez y agilidad, el ahorro de costes y la mejora del rendimiento. Capturan y rastrean diferentes formas de datos para mejorar la eficiencia operativa, mejorar la experiencia del cliente y crear nuevos y mejores modelos comerciales. Estos factores ayudan a las organizaciones a conservar recursos, construir una mejor marca y crear un proceso sistemático para su cadena de suministro y logística. El personal de logística y suministro también debe tener el beneficio de la capacitación en big data para realizar y emplear tácticas para alcanzar los objetivos departamentales. La planificación yla programación son quizás la parte más vital de cualquier cadena de suministro. Se puede perder o gastar mucho dinero en programación yplanificación, ycon big data este proceso se puede optimizar. Big data puede ayudar a predecir las demandas para que no se desperdicien dinero, espacio y tiempo. Se pueden mantener los niveles de inventario y observar las tendencias del mercado. Los departamentos de logística y suministro tienen posesiones basadas en transacciones que generan una enorme cantidad de datos. Big data tiene aplicaciones en todos los niveles de negocio y el departamento de suministro y logística debe apreciar sus ventajas.\n",
        "\n",
        "*** Departamento de operaciones ***\n",
        "Las operaciones son las actividades diarias organizadas de los negocios. Estos departamentos administran las prácticas comerciales para crear el más alto nivel de eficiencia dentro de una organización.\n",
        " Las divisiones de operaciones aseguran que las empresas puedan cumplir con los requisitos de los clientes de manera efectiva utilizando la menor cantidad de recursos necesarios y administran la atención al cliente. Las empresas también incluyen la creación, el desarrollo, la producción y la distribución de productos. Las operaciones juegan un papel distintivo que contribuye al éxito general de la organización. Las organizaciones han estado utilizando datos de varias maneras para mejorar sus operaciones. Con la aparición de nuevas tecnologías, los macrodatos se están convirtiendo en una parte inherente de las operaciones modernas en las que los desafíos se superan mediante el uso de análisis de macrodatos. Los conceptos y las aplicaciones ayudan a las empresas a predecir el comportamiento de los productos y los clientes. Las organizaciones e dan cuenta de que la utilidad de Big Data aporta valor a través de mejoras continuas en sus departamentos de operaciones.\n"
      ],
      "metadata": {
        "id": "BfUXqTLP1KLq"
      }
    },
    {
      "cell_type": "code",
      "source": [
        "# 03 - Flujos de control (ejercitacion.ipynb)\n",
        "def verificar_primo(nro):\n",
        "  es_primo = True\n",
        "  # ciclo for para recorrer rango de numeros entre 2 y el nro establecido.\n",
        "  for i in range(2, nro):\n",
        "    if nro % i == 0:\n",
        "      es_primo = False\n",
        "      break\n",
        "  return es_primo\n",
        "\n",
        "verificar_primo(11)\n",
        "\n"
      ],
      "metadata": {
        "colab": {
          "base_uri": "https://localhost:8080/"
        },
        "id": "X-r46dv2B3mY",
        "outputId": "35b73564-341a-41b2-f889-ca224b4aeff5"
      },
      "execution_count": null,
      "outputs": [
        {
          "output_type": "execute_result",
          "data": {
            "text/plain": [
              "True"
            ]
          },
          "metadata": {},
          "execution_count": 1
        }
      ]
    },
    {
      "cell_type": "code",
      "source": [
        "# [1, 2,3,4,5,6,7,8,9,10,11,12,13,14,15,16,17,18]\n",
        "def extrae_primos_de_lista(lista):\n",
        "  lista_primos = []\n",
        "  for elemento in lista:\n",
        "    if verificar_primo(int(elemento)):\n",
        "      lista_primos.append(elemento)\n",
        "    return lista_primos\n"
      ],
      "metadata": {
        "id": "wcVhtANYDR3g"
      },
      "execution_count": null,
      "outputs": []
    },
    {
      "cell_type": "code",
      "source": [
        "lis_completa = [1,2,3,4,5,6,7,8,9,10,11,12,13,14,15,16,17,18,19,20,21,22]\n",
        "lis_primos = extrae_primos_de_lista(lis_completa)\n",
        "lis_primos"
      ],
      "metadata": {
        "colab": {
          "base_uri": "https://localhost:8080/"
        },
        "id": "Ob14cF-TFTS4",
        "outputId": "2026cc0d-f81a-4567-a904-5133b97855a3"
      },
      "execution_count": null,
      "outputs": [
        {
          "output_type": "execute_result",
          "data": {
            "text/plain": [
              "[1]"
            ]
          },
          "metadata": {},
          "execution_count": 4
        }
      ]
    },
    {
      "cell_type": "code",
      "source": [
        "def conversion_grados(valor, origen, destino):\n",
        "  if (origen == 'celsius'):\n",
        "      if (destino == 'celsius'):\n",
        "        valor_destino - valor\n",
        "      elif(destino == \"farenheit\"):\n",
        "        valor_destino = (valor * 9 / 5) + 32\n",
        "      elif(destino == 'kelvin'):\n",
        "        valor_destino = valor + 273.15\n",
        "      else:\n",
        "        print('Parametro destino incorrecto')\n",
        "  elif(origen == 'farenheit'):\n",
        "    if(destino == 'celsius'):\n",
        "      valor_destino = valor\n",
        "    elif(destino == \"farenheit\"):\n",
        "      valor_destino = valor\n",
        "    elif(destino == \"kelvin\"):\n",
        "      valor_destino = ((valor - 32) * 5 / 9) + 273.15\n",
        "    else:\n",
        "      print('Parametro destino incorrecto')\n",
        "  elif(origen == 'kelvin'):\n",
        "    if (destino == 'celsius'):\n",
        "      valor_destino = valor - 273.15\n",
        "    elif(destino == 'farenheit'):\n",
        "      valor_destino = ((valor - 273.15) * 9 / 5) + 32\n",
        "    elif (destino == 'kelvin'):\n",
        "      valor_destino = valor\n",
        "  else:\n",
        "    print('Parametro origen  incorrecto')\n",
        "  \n",
        "  return valor_destino\n",
        "\n",
        "  conversion_grados(25, 'celsius', 'farenheit')\n"
      ],
      "metadata": {
        "id": "wXhw0mlwGqHS"
      },
      "execution_count": null,
      "outputs": []
    },
    {
      "cell_type": "code",
      "source": [
        "metricas = ['celsius', 'kelvin', 'farenheit']\n",
        "for i in range(0, 3):\n",
        "  for j in range(0,3):\n",
        "    print('20 grado', metricas[i], 'a', metricas[j],':', conversion_grados(1, metricas[i], metricas[j]) )\n"
      ],
      "metadata": {
        "colab": {
          "base_uri": "https://localhost:8080/",
          "height": 322
        },
        "id": "DFm3AJ1DJhXv",
        "outputId": "19d78bc4-36d8-48c2-f6b1-ef616b1e7b6a"
      },
      "execution_count": null,
      "outputs": [
        {
          "output_type": "error",
          "ename": "UnboundLocalError",
          "evalue": "ignored",
          "traceback": [
            "\u001b[0;31m---------------------------------------------------------------------------\u001b[0m",
            "\u001b[0;31mUnboundLocalError\u001b[0m                         Traceback (most recent call last)",
            "\u001b[0;32m<ipython-input-17-a5b8acd41a84>\u001b[0m in \u001b[0;36m<module>\u001b[0;34m()\u001b[0m\n\u001b[1;32m      2\u001b[0m \u001b[0;32mfor\u001b[0m \u001b[0mi\u001b[0m \u001b[0;32min\u001b[0m \u001b[0mrange\u001b[0m\u001b[0;34m(\u001b[0m\u001b[0;36m0\u001b[0m\u001b[0;34m,\u001b[0m \u001b[0;36m3\u001b[0m\u001b[0;34m)\u001b[0m\u001b[0;34m:\u001b[0m\u001b[0;34m\u001b[0m\u001b[0;34m\u001b[0m\u001b[0m\n\u001b[1;32m      3\u001b[0m   \u001b[0;32mfor\u001b[0m \u001b[0mj\u001b[0m \u001b[0;32min\u001b[0m \u001b[0mrange\u001b[0m\u001b[0;34m(\u001b[0m\u001b[0;36m0\u001b[0m\u001b[0;34m,\u001b[0m\u001b[0;36m3\u001b[0m\u001b[0;34m)\u001b[0m\u001b[0;34m:\u001b[0m\u001b[0;34m\u001b[0m\u001b[0;34m\u001b[0m\u001b[0m\n\u001b[0;32m----> 4\u001b[0;31m     \u001b[0mprint\u001b[0m\u001b[0;34m(\u001b[0m\u001b[0;34m'20 grado'\u001b[0m\u001b[0;34m,\u001b[0m \u001b[0mmetricas\u001b[0m\u001b[0;34m[\u001b[0m\u001b[0mi\u001b[0m\u001b[0;34m]\u001b[0m\u001b[0;34m,\u001b[0m \u001b[0;34m'a'\u001b[0m\u001b[0;34m,\u001b[0m \u001b[0mmetricas\u001b[0m\u001b[0;34m[\u001b[0m\u001b[0mj\u001b[0m\u001b[0;34m]\u001b[0m\u001b[0;34m,\u001b[0m\u001b[0;34m':'\u001b[0m\u001b[0;34m,\u001b[0m \u001b[0mconversion_grados\u001b[0m\u001b[0;34m(\u001b[0m\u001b[0;36m1\u001b[0m\u001b[0;34m,\u001b[0m \u001b[0mmetricas\u001b[0m\u001b[0;34m[\u001b[0m\u001b[0mi\u001b[0m\u001b[0;34m]\u001b[0m\u001b[0;34m,\u001b[0m \u001b[0mmetricas\u001b[0m\u001b[0;34m[\u001b[0m\u001b[0mj\u001b[0m\u001b[0;34m]\u001b[0m\u001b[0;34m)\u001b[0m \u001b[0;34m)\u001b[0m\u001b[0;34m\u001b[0m\u001b[0;34m\u001b[0m\u001b[0m\n\u001b[0m",
            "\u001b[0;32m<ipython-input-16-b1ec178dfa23>\u001b[0m in \u001b[0;36mconversion_grados\u001b[0;34m(valor, origen, destino)\u001b[0m\n\u001b[1;32m      2\u001b[0m   \u001b[0;32mif\u001b[0m \u001b[0;34m(\u001b[0m\u001b[0morigen\u001b[0m \u001b[0;34m==\u001b[0m \u001b[0;34m'celsius'\u001b[0m\u001b[0;34m)\u001b[0m\u001b[0;34m:\u001b[0m\u001b[0;34m\u001b[0m\u001b[0;34m\u001b[0m\u001b[0m\n\u001b[1;32m      3\u001b[0m       \u001b[0;32mif\u001b[0m \u001b[0;34m(\u001b[0m\u001b[0mdestino\u001b[0m \u001b[0;34m==\u001b[0m \u001b[0;34m'celsius'\u001b[0m\u001b[0;34m)\u001b[0m\u001b[0;34m:\u001b[0m\u001b[0;34m\u001b[0m\u001b[0;34m\u001b[0m\u001b[0m\n\u001b[0;32m----> 4\u001b[0;31m         \u001b[0mvalor_destino\u001b[0m \u001b[0;34m-\u001b[0m \u001b[0mvalor\u001b[0m\u001b[0;34m\u001b[0m\u001b[0;34m\u001b[0m\u001b[0m\n\u001b[0m\u001b[1;32m      5\u001b[0m       \u001b[0;32melif\u001b[0m\u001b[0;34m(\u001b[0m\u001b[0mdestino\u001b[0m \u001b[0;34m==\u001b[0m \u001b[0;34m\"farenheit\"\u001b[0m\u001b[0;34m)\u001b[0m\u001b[0;34m:\u001b[0m\u001b[0;34m\u001b[0m\u001b[0;34m\u001b[0m\u001b[0m\n\u001b[1;32m      6\u001b[0m         \u001b[0mvalor_destino\u001b[0m \u001b[0;34m=\u001b[0m \u001b[0;34m(\u001b[0m\u001b[0mvalor\u001b[0m \u001b[0;34m*\u001b[0m \u001b[0;36m9\u001b[0m \u001b[0;34m/\u001b[0m \u001b[0;36m5\u001b[0m\u001b[0;34m)\u001b[0m \u001b[0;34m+\u001b[0m \u001b[0;36m32\u001b[0m\u001b[0;34m\u001b[0m\u001b[0;34m\u001b[0m\u001b[0m\n",
            "\u001b[0;31mUnboundLocalError\u001b[0m: local variable 'valor_destino' referenced before assignment"
          ]
        }
      ]
    },
    {
      "cell_type": "code",
      "source": [
        "# 06 Funciones y recursividad\n",
        "\n",
        "def factorial(numero): \n",
        "  if(type(numero) != int):\n",
        "    return 'El numero debe ser entero'\n",
        "  if(numero < 0):\n",
        "    return 'El numero debe ser positivo'\n",
        "  if(numero > 1):\n",
        "    numero = numero + 1\n",
        "  return numero\n",
        "  \n",
        "  print(factorial(4))\n",
        "  print(factorial(-2))\n",
        "  print(factorial(1,23))\n"
      ],
      "metadata": {
        "id": "o4yOBwtjMnei"
      },
      "execution_count": null,
      "outputs": []
    }
  ]
}